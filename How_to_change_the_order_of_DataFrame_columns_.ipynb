{
  "nbformat": 4,
  "nbformat_minor": 0,
  "metadata": {
    "colab": {
      "name": "How to change the order of DataFrame columns?.ipynb",
      "provenance": []
    },
    "kernelspec": {
      "name": "python3",
      "display_name": "Python 3"
    },
    "language_info": {
      "name": "python"
    }
  },
  "cells": [
    {
      "cell_type": "code",
      "metadata": {
        "id": "RGkvFFYTFCTJ"
      },
      "source": [
        "import numpy as np\n",
        "import pandas as pd\n",
        "\n",
        "df = pd.DataFrame(np.random.rand(10, 5))"
      ],
      "execution_count": 1,
      "outputs": []
    },
    {
      "cell_type": "code",
      "metadata": {
        "colab": {
          "base_uri": "https://localhost:8080/",
          "height": 359
        },
        "id": "kl7s8rghFMaq",
        "outputId": "369c16d6-d3fa-4470-d9c9-f9246c513f98"
      },
      "source": [
        "df['mean'] = df.mean(1)\n",
        "df"
      ],
      "execution_count": 4,
      "outputs": [
        {
          "output_type": "execute_result",
          "data": {
            "text/html": [
              "<div>\n",
              "<style scoped>\n",
              "    .dataframe tbody tr th:only-of-type {\n",
              "        vertical-align: middle;\n",
              "    }\n",
              "\n",
              "    .dataframe tbody tr th {\n",
              "        vertical-align: top;\n",
              "    }\n",
              "\n",
              "    .dataframe thead th {\n",
              "        text-align: right;\n",
              "    }\n",
              "</style>\n",
              "<table border=\"1\" class=\"dataframe\">\n",
              "  <thead>\n",
              "    <tr style=\"text-align: right;\">\n",
              "      <th></th>\n",
              "      <th>0</th>\n",
              "      <th>1</th>\n",
              "      <th>2</th>\n",
              "      <th>3</th>\n",
              "      <th>4</th>\n",
              "      <th>mean</th>\n",
              "    </tr>\n",
              "  </thead>\n",
              "  <tbody>\n",
              "    <tr>\n",
              "      <th>0</th>\n",
              "      <td>0.175475</td>\n",
              "      <td>0.655910</td>\n",
              "      <td>0.495329</td>\n",
              "      <td>0.237629</td>\n",
              "      <td>0.326869</td>\n",
              "      <td>0.378242</td>\n",
              "    </tr>\n",
              "    <tr>\n",
              "      <th>1</th>\n",
              "      <td>0.572145</td>\n",
              "      <td>0.064537</td>\n",
              "      <td>0.037715</td>\n",
              "      <td>0.830861</td>\n",
              "      <td>0.361487</td>\n",
              "      <td>0.373349</td>\n",
              "    </tr>\n",
              "    <tr>\n",
              "      <th>2</th>\n",
              "      <td>0.935466</td>\n",
              "      <td>0.609694</td>\n",
              "      <td>0.974560</td>\n",
              "      <td>0.060514</td>\n",
              "      <td>0.308678</td>\n",
              "      <td>0.577782</td>\n",
              "    </tr>\n",
              "    <tr>\n",
              "      <th>3</th>\n",
              "      <td>0.719115</td>\n",
              "      <td>0.065270</td>\n",
              "      <td>0.877036</td>\n",
              "      <td>0.406945</td>\n",
              "      <td>0.799759</td>\n",
              "      <td>0.573625</td>\n",
              "    </tr>\n",
              "    <tr>\n",
              "      <th>4</th>\n",
              "      <td>0.834540</td>\n",
              "      <td>0.451784</td>\n",
              "      <td>0.156512</td>\n",
              "      <td>0.312368</td>\n",
              "      <td>0.929743</td>\n",
              "      <td>0.536989</td>\n",
              "    </tr>\n",
              "    <tr>\n",
              "      <th>5</th>\n",
              "      <td>0.439718</td>\n",
              "      <td>0.809789</td>\n",
              "      <td>0.370097</td>\n",
              "      <td>0.088090</td>\n",
              "      <td>0.515200</td>\n",
              "      <td>0.444579</td>\n",
              "    </tr>\n",
              "    <tr>\n",
              "      <th>6</th>\n",
              "      <td>0.251631</td>\n",
              "      <td>0.246585</td>\n",
              "      <td>0.697826</td>\n",
              "      <td>0.133526</td>\n",
              "      <td>0.254329</td>\n",
              "      <td>0.316780</td>\n",
              "    </tr>\n",
              "    <tr>\n",
              "      <th>7</th>\n",
              "      <td>0.027758</td>\n",
              "      <td>0.608432</td>\n",
              "      <td>0.892810</td>\n",
              "      <td>0.650537</td>\n",
              "      <td>0.862854</td>\n",
              "      <td>0.608478</td>\n",
              "    </tr>\n",
              "    <tr>\n",
              "      <th>8</th>\n",
              "      <td>0.901604</td>\n",
              "      <td>0.421673</td>\n",
              "      <td>0.685517</td>\n",
              "      <td>0.791718</td>\n",
              "      <td>0.981642</td>\n",
              "      <td>0.756431</td>\n",
              "    </tr>\n",
              "    <tr>\n",
              "      <th>9</th>\n",
              "      <td>0.594679</td>\n",
              "      <td>0.112020</td>\n",
              "      <td>0.123470</td>\n",
              "      <td>0.254358</td>\n",
              "      <td>0.530159</td>\n",
              "      <td>0.322937</td>\n",
              "    </tr>\n",
              "  </tbody>\n",
              "</table>\n",
              "</div>"
            ],
            "text/plain": [
              "          0         1         2         3         4      mean\n",
              "0  0.175475  0.655910  0.495329  0.237629  0.326869  0.378242\n",
              "1  0.572145  0.064537  0.037715  0.830861  0.361487  0.373349\n",
              "2  0.935466  0.609694  0.974560  0.060514  0.308678  0.577782\n",
              "3  0.719115  0.065270  0.877036  0.406945  0.799759  0.573625\n",
              "4  0.834540  0.451784  0.156512  0.312368  0.929743  0.536989\n",
              "5  0.439718  0.809789  0.370097  0.088090  0.515200  0.444579\n",
              "6  0.251631  0.246585  0.697826  0.133526  0.254329  0.316780\n",
              "7  0.027758  0.608432  0.892810  0.650537  0.862854  0.608478\n",
              "8  0.901604  0.421673  0.685517  0.791718  0.981642  0.756431\n",
              "9  0.594679  0.112020  0.123470  0.254358  0.530159  0.322937"
            ]
          },
          "metadata": {
            "tags": []
          },
          "execution_count": 4
        }
      ]
    },
    {
      "cell_type": "code",
      "metadata": {
        "id": "rEw_9NrJFV0Z"
      },
      "source": [
        "cols = df.columns.tolist()"
      ],
      "execution_count": 5,
      "outputs": []
    },
    {
      "cell_type": "code",
      "metadata": {
        "colab": {
          "base_uri": "https://localhost:8080/"
        },
        "id": "6MLnFSJVFZCh",
        "outputId": "f9be37bb-0de4-405a-9c83-e3a8de238335"
      },
      "source": [
        "cols"
      ],
      "execution_count": 6,
      "outputs": [
        {
          "output_type": "execute_result",
          "data": {
            "text/plain": [
              "[0, 1, 2, 3, 4, 'mean']"
            ]
          },
          "metadata": {
            "tags": []
          },
          "execution_count": 6
        }
      ]
    },
    {
      "cell_type": "code",
      "metadata": {
        "colab": {
          "base_uri": "https://localhost:8080/"
        },
        "id": "X_AHjZQEFeZn",
        "outputId": "e9478539-51a4-4372-8496-e144e60430c5"
      },
      "source": [
        "cols = cols[-1:] + cols[:-1]\n",
        "cols"
      ],
      "execution_count": 10,
      "outputs": [
        {
          "output_type": "execute_result",
          "data": {
            "text/plain": [
              "[3, 4, 'mean', 0, 1, 2]"
            ]
          },
          "metadata": {
            "tags": []
          },
          "execution_count": 10
        }
      ]
    },
    {
      "cell_type": "code",
      "metadata": {
        "colab": {
          "base_uri": "https://localhost:8080/",
          "height": 359
        },
        "id": "r1W5WIlIFoX6",
        "outputId": "cf8153e5-14dc-4f31-c360-00604a292c00"
      },
      "source": [
        "df = df[cols]  #    OR    df = df.ix[:, cols]\n",
        "df"
      ],
      "execution_count": 13,
      "outputs": [
        {
          "output_type": "execute_result",
          "data": {
            "text/html": [
              "<div>\n",
              "<style scoped>\n",
              "    .dataframe tbody tr th:only-of-type {\n",
              "        vertical-align: middle;\n",
              "    }\n",
              "\n",
              "    .dataframe tbody tr th {\n",
              "        vertical-align: top;\n",
              "    }\n",
              "\n",
              "    .dataframe thead th {\n",
              "        text-align: right;\n",
              "    }\n",
              "</style>\n",
              "<table border=\"1\" class=\"dataframe\">\n",
              "  <thead>\n",
              "    <tr style=\"text-align: right;\">\n",
              "      <th></th>\n",
              "      <th>3</th>\n",
              "      <th>4</th>\n",
              "      <th>mean</th>\n",
              "      <th>0</th>\n",
              "      <th>1</th>\n",
              "      <th>2</th>\n",
              "    </tr>\n",
              "  </thead>\n",
              "  <tbody>\n",
              "    <tr>\n",
              "      <th>0</th>\n",
              "      <td>0.237629</td>\n",
              "      <td>0.326869</td>\n",
              "      <td>0.378242</td>\n",
              "      <td>0.175475</td>\n",
              "      <td>0.655910</td>\n",
              "      <td>0.495329</td>\n",
              "    </tr>\n",
              "    <tr>\n",
              "      <th>1</th>\n",
              "      <td>0.830861</td>\n",
              "      <td>0.361487</td>\n",
              "      <td>0.373349</td>\n",
              "      <td>0.572145</td>\n",
              "      <td>0.064537</td>\n",
              "      <td>0.037715</td>\n",
              "    </tr>\n",
              "    <tr>\n",
              "      <th>2</th>\n",
              "      <td>0.060514</td>\n",
              "      <td>0.308678</td>\n",
              "      <td>0.577782</td>\n",
              "      <td>0.935466</td>\n",
              "      <td>0.609694</td>\n",
              "      <td>0.974560</td>\n",
              "    </tr>\n",
              "    <tr>\n",
              "      <th>3</th>\n",
              "      <td>0.406945</td>\n",
              "      <td>0.799759</td>\n",
              "      <td>0.573625</td>\n",
              "      <td>0.719115</td>\n",
              "      <td>0.065270</td>\n",
              "      <td>0.877036</td>\n",
              "    </tr>\n",
              "    <tr>\n",
              "      <th>4</th>\n",
              "      <td>0.312368</td>\n",
              "      <td>0.929743</td>\n",
              "      <td>0.536989</td>\n",
              "      <td>0.834540</td>\n",
              "      <td>0.451784</td>\n",
              "      <td>0.156512</td>\n",
              "    </tr>\n",
              "    <tr>\n",
              "      <th>5</th>\n",
              "      <td>0.088090</td>\n",
              "      <td>0.515200</td>\n",
              "      <td>0.444579</td>\n",
              "      <td>0.439718</td>\n",
              "      <td>0.809789</td>\n",
              "      <td>0.370097</td>\n",
              "    </tr>\n",
              "    <tr>\n",
              "      <th>6</th>\n",
              "      <td>0.133526</td>\n",
              "      <td>0.254329</td>\n",
              "      <td>0.316780</td>\n",
              "      <td>0.251631</td>\n",
              "      <td>0.246585</td>\n",
              "      <td>0.697826</td>\n",
              "    </tr>\n",
              "    <tr>\n",
              "      <th>7</th>\n",
              "      <td>0.650537</td>\n",
              "      <td>0.862854</td>\n",
              "      <td>0.608478</td>\n",
              "      <td>0.027758</td>\n",
              "      <td>0.608432</td>\n",
              "      <td>0.892810</td>\n",
              "    </tr>\n",
              "    <tr>\n",
              "      <th>8</th>\n",
              "      <td>0.791718</td>\n",
              "      <td>0.981642</td>\n",
              "      <td>0.756431</td>\n",
              "      <td>0.901604</td>\n",
              "      <td>0.421673</td>\n",
              "      <td>0.685517</td>\n",
              "    </tr>\n",
              "    <tr>\n",
              "      <th>9</th>\n",
              "      <td>0.254358</td>\n",
              "      <td>0.530159</td>\n",
              "      <td>0.322937</td>\n",
              "      <td>0.594679</td>\n",
              "      <td>0.112020</td>\n",
              "      <td>0.123470</td>\n",
              "    </tr>\n",
              "  </tbody>\n",
              "</table>\n",
              "</div>"
            ],
            "text/plain": [
              "          3         4      mean         0         1         2\n",
              "0  0.237629  0.326869  0.378242  0.175475  0.655910  0.495329\n",
              "1  0.830861  0.361487  0.373349  0.572145  0.064537  0.037715\n",
              "2  0.060514  0.308678  0.577782  0.935466  0.609694  0.974560\n",
              "3  0.406945  0.799759  0.573625  0.719115  0.065270  0.877036\n",
              "4  0.312368  0.929743  0.536989  0.834540  0.451784  0.156512\n",
              "5  0.088090  0.515200  0.444579  0.439718  0.809789  0.370097\n",
              "6  0.133526  0.254329  0.316780  0.251631  0.246585  0.697826\n",
              "7  0.650537  0.862854  0.608478  0.027758  0.608432  0.892810\n",
              "8  0.791718  0.981642  0.756431  0.901604  0.421673  0.685517\n",
              "9  0.254358  0.530159  0.322937  0.594679  0.112020  0.123470"
            ]
          },
          "metadata": {
            "tags": []
          },
          "execution_count": 13
        }
      ]
    }
  ]
}